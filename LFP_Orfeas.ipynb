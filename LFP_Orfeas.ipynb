{
 "cells": [
  {
   "cell_type": "markdown",
   "metadata": {},
   "source": [
    "# Exercises"
   ]
  },
  {
   "cell_type": "code",
   "execution_count": 3,
   "metadata": {},
   "outputs": [
    {
     "ename": "ModuleNotFoundError",
     "evalue": "No module named 'utils'",
     "output_type": "error",
     "traceback": [
      "\u001b[1;31m----------------------------------------------------------------------\u001b[0m",
      "\u001b[1;31mModuleNotFoundError\u001b[0m                  Traceback (most recent call last)",
      "Cell \u001b[1;32mIn[3], line 8\u001b[0m\n\u001b[0;32m      6\u001b[0m \u001b[38;5;28;01mimport\u001b[39;00m \u001b[38;5;21;01mos\u001b[39;00m\n\u001b[0;32m      7\u001b[0m sys\u001b[38;5;241m.\u001b[39mpath\u001b[38;5;241m.\u001b[39mappend(os\u001b[38;5;241m.\u001b[39mpath\u001b[38;5;241m.\u001b[39mabspath(\u001b[38;5;124m\"\u001b[39m\u001b[38;5;124mcode\u001b[39m\u001b[38;5;124m\"\u001b[39m))\n\u001b[1;32m----> 8\u001b[0m \u001b[38;5;28;01mfrom\u001b[39;00m \u001b[38;5;21;01mutils\u001b[39;00m \u001b[38;5;28;01mimport\u001b[39;00m download_data\n\u001b[0;32m      9\u001b[0m \u001b[38;5;28;01mimport\u001b[39;00m \u001b[38;5;21;01mlfp_functions\u001b[39;00m \u001b[38;5;28;01mas\u001b[39;00m \u001b[38;5;21;01mlf\u001b[39;00m\n\u001b[0;32m     10\u001b[0m sns\u001b[38;5;241m.\u001b[39mset_theme(context\u001b[38;5;241m=\u001b[39m\u001b[38;5;124m'\u001b[39m\u001b[38;5;124mnotebook\u001b[39m\u001b[38;5;124m'\u001b[39m,style\u001b[38;5;241m=\u001b[39m\u001b[38;5;124m'\u001b[39m\u001b[38;5;124mwhite\u001b[39m\u001b[38;5;124m'\u001b[39m,font_scale\u001b[38;5;241m=\u001b[39m\u001b[38;5;241m1.5\u001b[39m, \u001b[38;5;66;03m#sets the stage for seaborn,plots\u001b[39;00m\n\u001b[0;32m     11\u001b[0m               rc \u001b[38;5;241m=\u001b[39m {\u001b[38;5;124m'\u001b[39m\u001b[38;5;124maxes.spines.top\u001b[39m\u001b[38;5;124m'\u001b[39m:\u001b[38;5;28;01mFalse\u001b[39;00m,\u001b[38;5;124m'\u001b[39m\u001b[38;5;124maxes.spines.right\u001b[39m\u001b[38;5;124m'\u001b[39m:\u001b[38;5;28;01mFalse\u001b[39;00m,\n\u001b[0;32m     12\u001b[0m                      \u001b[38;5;124m'\u001b[39m\u001b[38;5;124mimage.cmap\u001b[39m\u001b[38;5;124m'\u001b[39m:plt\u001b[38;5;241m.\u001b[39mcm\u001b[38;5;241m.\u001b[39mjet}) \u001b[38;5;66;03m#axes, color map\u001b[39;00m\n",
      "\u001b[1;31mModuleNotFoundError\u001b[0m: No module named 'utils'"
     ]
    }
   ],
   "source": [
    "import matplotlib.pyplot as plt\n",
    "import seaborn as sns\n",
    "import pickle\n",
    "import numpy as np\n",
    "import sys\n",
    "import os\n",
    "sys.path.append(os.path.abspath(\"code\"))\n",
    "from utils import download_data\n",
    "import lfp_functions as lf\n",
    "sns.set_theme(context='notebook',style='white',font_scale=1.5, #sets the stage for seaborn,plots\n",
    "              rc = {'axes.spines.top':False,'axes.spines.right':False,\n",
    "                     'image.cmap':plt.cm.jet}) #axes, color map\n",
    "from scipy.signal import butter\n",
    "from scipy.signal import sosfilt"
   ]
  },
  {
   "cell_type": "markdown",
   "metadata": {},
   "source": [
    "## Exercise 1: explore filter parameters\n",
    "---\n",
    "In this exercises you will explore how different parameters affect the filtering process.\n",
    "- Import the data form `data/moving_lfp.pickle`\n",
    "- Take a few seconds of the data, and filter them in different frequency bands. Plot the resulting singal.\n",
    "  Try and fix a central frequency and play with the width of the band, then try to change the central frequency of the band.\n",
    "- Try to change the order of the filter, for a fixed frequency band. How does the filtered signal change? How does the computing time change? (You can try to quantify the computing time with the jupyter magic commeand [`%timeit`](https://docs.python.org/3/library/timeit.html) )\n",
    "- Comment on what you see"
   ]
  },
  {
   "cell_type": "code",
   "execution_count": 4,
   "metadata": {},
   "outputs": [
    {
     "ename": "FileNotFoundError",
     "evalue": "[Errno 2] No such file or directory: 'data/moving_lfp.pickle'",
     "output_type": "error",
     "traceback": [
      "\u001b[1;31m----------------------------------------------------------------------\u001b[0m",
      "\u001b[1;31mFileNotFoundError\u001b[0m                    Traceback (most recent call last)",
      "Cell \u001b[1;32mIn[4], line 2\u001b[0m\n\u001b[0;32m      1\u001b[0m \u001b[38;5;66;03m# Exercise 1\u001b[39;00m\n\u001b[1;32m----> 2\u001b[0m \u001b[38;5;28;01mwith\u001b[39;00m \u001b[38;5;28;43mopen\u001b[39;49m\u001b[43m(\u001b[49m\u001b[38;5;124;43m'\u001b[39;49m\u001b[38;5;124;43mdata/moving_lfp.pickle\u001b[39;49m\u001b[38;5;124;43m'\u001b[39;49m\u001b[43m,\u001b[49m\u001b[43m \u001b[49m\u001b[38;5;124;43m'\u001b[39;49m\u001b[38;5;124;43mrb\u001b[39;49m\u001b[38;5;124;43m'\u001b[39;49m\u001b[43m)\u001b[49m \u001b[38;5;28;01mas\u001b[39;00m handle:\n\u001b[0;32m      3\u001b[0m     lfp_data \u001b[38;5;241m=\u001b[39m pickle\u001b[38;5;241m.\u001b[39mload(handle)\n\u001b[0;32m      5\u001b[0m lfp \u001b[38;5;241m=\u001b[39m lfp_data[\u001b[38;5;124m'\u001b[39m\u001b[38;5;124mlfp\u001b[39m\u001b[38;5;124m'\u001b[39m] \u001b[38;5;66;03m#1 sec = 1k\u001b[39;00m\n",
      "File \u001b[1;32m~\\mambaforge\\envs\\neuran\\lib\\site-packages\\IPython\\core\\interactiveshell.py:284\u001b[0m, in \u001b[0;36m_modified_open\u001b[1;34m(file, *args, **kwargs)\u001b[0m\n\u001b[0;32m    277\u001b[0m \u001b[38;5;28;01mif\u001b[39;00m file \u001b[38;5;129;01min\u001b[39;00m {\u001b[38;5;241m0\u001b[39m, \u001b[38;5;241m1\u001b[39m, \u001b[38;5;241m2\u001b[39m}:\n\u001b[0;32m    278\u001b[0m     \u001b[38;5;28;01mraise\u001b[39;00m \u001b[38;5;167;01mValueError\u001b[39;00m(\n\u001b[0;32m    279\u001b[0m         \u001b[38;5;124mf\u001b[39m\u001b[38;5;124m\"\u001b[39m\u001b[38;5;124mIPython won\u001b[39m\u001b[38;5;124m'\u001b[39m\u001b[38;5;124mt let you open fd=\u001b[39m\u001b[38;5;132;01m{\u001b[39;00mfile\u001b[38;5;132;01m}\u001b[39;00m\u001b[38;5;124m by default \u001b[39m\u001b[38;5;124m\"\u001b[39m\n\u001b[0;32m    280\u001b[0m         \u001b[38;5;124m\"\u001b[39m\u001b[38;5;124mas it is likely to crash IPython. If you know what you are doing, \u001b[39m\u001b[38;5;124m\"\u001b[39m\n\u001b[0;32m    281\u001b[0m         \u001b[38;5;124m\"\u001b[39m\u001b[38;5;124myou can use builtins\u001b[39m\u001b[38;5;124m'\u001b[39m\u001b[38;5;124m open.\u001b[39m\u001b[38;5;124m\"\u001b[39m\n\u001b[0;32m    282\u001b[0m     )\n\u001b[1;32m--> 284\u001b[0m \u001b[38;5;28;01mreturn\u001b[39;00m io_open(file, \u001b[38;5;241m*\u001b[39margs, \u001b[38;5;241m*\u001b[39m\u001b[38;5;241m*\u001b[39mkwargs)\n",
      "\u001b[1;31mFileNotFoundError\u001b[0m: [Errno 2] No such file or directory: 'data/moving_lfp.pickle'"
     ]
    }
   ],
   "source": [
    "# Exercise 1\n",
    "with open('data/moving_lfp.pickle', 'rb') as handle:\n",
    "    lfp_data = pickle.load(handle)\n",
    "\n",
    "lfp = lfp_data['lfp'] #1 sec = 1k\n",
    "lfp2=lfp[:5000]\n",
    "sampling_rate = lfp_data['sampling_rate']\n",
    "print(f'Loaded {len(lfp)/sampling_rate} seconds of LFP, sampled at {sampling_rate} Hz')\n"
   ]
  },
  {
   "cell_type": "code",
   "execution_count": null,
   "metadata": {},
   "outputs": [],
   "source": [
    "#Plotting the first 5 secs\n",
    "plt.figure(figsize=(10,5))\n",
    "plt.plot(np.linspace(0,5,5000),lfp2)\n",
    "plt.xlabel('time (s)')\n",
    "plt.ylabel('voltage (mV)')"
   ]
  },
  {
   "cell_type": "code",
   "execution_count": null,
   "metadata": {},
   "outputs": [],
   "source": [
    "#Fourier Transform\n",
    "from scipy.fft import fft, fftfreq \n",
    "\n",
    "n_samples = len(lfp2)\n",
    "sample_dt = 1. / sampling_rate\n",
    "\n",
    "\n",
    "centered_lfp2 = lfp2 - np.mean(lfp2)\n",
    "\n",
    "transformed_signal = fft(centered_lfp2) \n",
    "\n",
    "frequencies = fftfreq(n_samples,sample_dt) \n",
    "\n",
    "transformed_signal = transformed_signal[:n_samples//2]\n",
    "frequencies = frequencies[:n_samples//2]\n",
    "\n",
    "power = abs(transformed_signal)**2\n",
    "\n",
    "plt.figure(figsize = (10,5))\n",
    "plt.plot(frequencies,power)\n",
    "plt.xlim([0,100])  \n",
    "plt.xlabel('frequencies')\n",
    "plt.ylabel('power')\n",
    "plt.axvline(x=7 ,c='r',linestyle='--',label='7 Hz theta')\n",
    "plt.axvline(x=59 ,c='grey',linestyle='--',label='59-60 Hz electrical noise')\n",
    "\n",
    "plt.legend()"
   ]
  },
  {
   "cell_type": "code",
   "execution_count": null,
   "metadata": {},
   "outputs": [],
   "source": [
    "#Filters in different frequency bands with lf.bandpass and central frequency 10Hz\n",
    "\n",
    "five = lf.bandpass_filter(lfp2,low_f=5,high_f=15, sampling_rate=sampling_rate)\n",
    "one = lf.bandpass_filter(lfp2,low_f=9,high_f=11, sampling_rate=sampling_rate)\n",
    "nine= lf.bandpass_filter(lfp2,low_f=1,high_f=19, sampling_rate=sampling_rate)\n",
    "\n",
    "plot_offset = 200 \n",
    "\n",
    "plt.figure(figsize=(15,5))\n",
    "plt.plot(five[:5000]+2*plot_offset,label=' (Bandwidth: 5 Hz)')\n",
    "plt.plot(one[:5000]+plot_offset,label = '(Bandwidth: 1Hz)')\n",
    "plt.plot(nine[:5000],label = '(Bandwidth: 9Hz)')\n",
    "plt.title('Different frequency bands around 10Hz')\n",
    "\n",
    "#plt.axis('off')\n",
    "plt.legend(loc=(0,1))\n",
    "\n"
   ]
  },
  {
   "cell_type": "code",
   "execution_count": null,
   "metadata": {},
   "outputs": [],
   "source": [
    "#Filters with same bandwidth over different central frequencies\n",
    "\n",
    "\n",
    "ten = lf.bandpass_filter(lfp2,low_f=1,high_f=21, sampling_rate=sampling_rate)\n",
    "fortyfive = lf.bandpass_filter(lfp2,low_f=35,high_f=55, sampling_rate=sampling_rate)\n",
    "hundred= lf.bandpass_filter(lfp2,low_f=90,high_f=110, sampling_rate=sampling_rate)\n",
    "\n",
    "plot_offset = 200 \n",
    "\n",
    "plt.figure(figsize=(15,5))\n",
    "plt.plot(ten[:5000]+2*plot_offset,label=' (Central Frequency: 10Hz)')\n",
    "plt.plot(fortyfive[:5000]+plot_offset,label = '(Central Frequency: 45Hz)')\n",
    "plt.plot(hundred[:5000],label = '(Central Frequency: 100Hz)')\n",
    "plt.title('Same Bandwidth () around different central frequencies')\n",
    "\n",
    "#plt.axis('off')\n",
    "plt.legend(loc=(0,1))"
   ]
  },
  {
   "cell_type": "code",
   "execution_count": null,
   "metadata": {},
   "outputs": [],
   "source": [
    "#Changing the order of the filter for the band: 1-15Hz\n",
    "\n",
    "one = 1\n",
    "three = 3\n",
    "five= 5\n",
    "low=1\n",
    "high=15\n",
    "filter1 = butter(one,[low,high],\n",
    "                btype='band', \n",
    "                output='sos', \n",
    "                fs=sampling_rate)\n",
    "filter2=butter(three,[low,high],\n",
    "                btype='band', \n",
    "                output='sos', \n",
    "                fs=sampling_rate)\n",
    "filter3=butter(five,[low,high],\n",
    "                btype='band', \n",
    "                output='sos', \n",
    "                fs=sampling_rate)\n",
    "wideband1=sosfilt(filter1, lfp2)\n",
    "wideband2=sosfilt(filter2, lfp2)\n",
    "wideband3=sosfilt(filter3, lfp2) \n",
    "\n",
    "\n",
    "fig0=plt.figure(figsize=(15,5))\n",
    "sub1= fig0.add_subplot(2,2,1)\n",
    "sub2= fig0.add_subplot(2,2,2)\n",
    "sub3= fig0.add_subplot(2,2,3)\n",
    "\n",
    "sub1.plot(np.linspace(0,5,5000),wideband1,'green',label = 'Order = 1')\n",
    "sub2.plot(np.linspace(0,5,5000),wideband2,label = 'Order = 2')\n",
    "sub3.plot(np.linspace(0,5,5000),wideband3,'r',label = 'Order = 3')\n",
    "\n",
    "\n",
    "\n",
    "handles=[]\n",
    "labels=['Order = 1','Order = 2','Order = 3']\n",
    "fig0.legend( labels, loc = ('lower right'))\n"
   ]
  },
  {
   "cell_type": "markdown",
   "metadata": {},
   "source": [
    "## Exercise 2: wavelet transform with real wavelets\n",
    "---\n",
    "In this exercises you will explore the difference between real and complex wavelets in the continous wavelet transform.\n",
    "- Import the data form `data/moving_lfp.pickle`\n",
    "- Select a period of a few seconds of the signal and compute the spectrogram. \n",
    "  Try the wavelet transform with wavelet `mexh` (mexican hat),`gaus` (gaussian) and `morl` (morlet). this are all real wavelet.\n",
    "- How does the spectrum look different from what we computed with a complex Morlet tranform ? Comment on why do you think this might be the case."
   ]
  },
  {
   "cell_type": "markdown",
   "metadata": {},
   "source": [
    "## Exercise 3: REM sleep detection\n",
    "---\n",
    "Mammalian sleep is organized in different phases. [Rapid Eye Movement (REM) sleep](https://en.wikipedia.org/wiki/Rapid_eye_movement_sleep) is a well studied phase, with clear markers that make it detectable from LFP data. One of the most used marker is the ratio (or difference) between the oscillatory power in the theta and delta bands in the hippocampus. During REM sleep, the former dominates, in a pattern that resembles active behaviour.  \n",
    "In this exercise we will use the tools we learned about to detect and inspect the REM and non-REM (nREM) phases of sleep in data recorded from the hippocampus of a sleeping mouse.\n",
    "\n",
    "- Import the data form `data/moving_lfp.pickle`\n",
    "- Compute the instantaneous power in the theta (6-10 Hz) and delta (2-4 Hz) frequency bands, for the whole signal.\n",
    "- z-score the two power signals (subtract the mean and divide by the standard deviation, you can use `scipy.stats.zscore()`)\n",
    "- Compute and plot the power difference (`theta_power - delta_power`) for the sleep session.\n",
    "- Compute the REM (power difference $>0.2$) and nREM (power diffewrence $<0.2$) sleep periods.\n",
    "- Plot examples of REM vs nREM lfp signals (wideband filtered betw. 1 and 200 Hz to get rid of some of the noise).\n",
    "- Explore how changing the threshold affects the amount of REM sleep detected."
   ]
  }
 ],
 "metadata": {
  "kernelspec": {
   "display_name": "Python 3 (ipykernel)",
   "language": "python",
   "name": "python3"
  },
  "language_info": {
   "codemirror_mode": {
    "name": "ipython",
    "version": 3
   },
   "file_extension": ".py",
   "mimetype": "text/x-python",
   "name": "python",
   "nbconvert_exporter": "python",
   "pygments_lexer": "ipython3",
   "version": "3.9.16"
  },
  "vscode": {
   "interpreter": {
    "hash": "31f2aee4e71d21fbe5cf8b01ff0e069b9275f58929596ceb00d14d90e3e16cd6"
   }
  }
 },
 "nbformat": 4,
 "nbformat_minor": 4
}
